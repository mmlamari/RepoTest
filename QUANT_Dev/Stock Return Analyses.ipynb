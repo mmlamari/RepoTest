{
 "metadata": {
  "name": "",
  "signature": "sha256:23e2728a4a3aab98104626fd27e74a8b53c4f2f0b6803477f552d84feefef6b9"
 },
 "nbformat": 3,
 "nbformat_minor": 0,
 "worksheets": [
  {
   "cells": [
    {
     "cell_type": "code",
     "collapsed": false,
     "input": [
      "%matplotlib inline\n",
      "\n",
      "import pandas.io.data as web\n",
      "import datetime as dt\n",
      "import matplotlib.pyplot as plt \n",
      "import numpy as np\n",
      "import pandas as pd\n",
      "import scipy.stats  as st\n",
      "import matplotlib.mlab as mlab\n",
      "import math"
     ],
     "language": "python",
     "metadata": {},
     "outputs": [],
     "prompt_number": 1
    },
    {
     "cell_type": "code",
     "collapsed": false,
     "input": [
      "a= np.linspace(-.25,.35,10000)\n",
      "\n",
      "plt.plot(a,mlab.normpdf(a,0.05,.10))\n",
      "plt.plot(a,mlab.normpdf(a,0.025,.05),color='r')\n",
      "\n",
      "\n"
     ],
     "language": "python",
     "metadata": {},
     "outputs": [
      {
       "metadata": {},
       "output_type": "pyout",
       "prompt_number": 2,
       "text": [
        "[<matplotlib.lines.Line2D at 0xc2b48d0>]"
       ]
      },
      {
       "metadata": {},
       "output_type": "display_data",
       "png": "[encoded data removed]",
       "text": [
        "<matplotlib.figure.Figure at 0xc2b4898>"
       ]
      }
     ],
     "prompt_number": 2
    },
    {
     "cell_type": "code",
     "collapsed": false,
     "input": [
      "print st.norm(0.05 ,(.1)).cdf(.15) - st.norm(0.05 ,(.1)).cdf(-.05) "
     ],
     "language": "python",
     "metadata": {},
     "outputs": [
      {
       "output_type": "stream",
       "stream": "stdout",
       "text": [
        "0.682689492137\n"
       ]
      }
     ],
     "prompt_number": 3
    },
    {
     "cell_type": "code",
     "collapsed": false,
     "input": [
      "qfivepercent = st.norm(0.04 ,.09).ppf(.99)\n",
      "qonepercent = st.norm(0.04 ,.09).ppf(.99)\n",
      "w0 =100000 \n",
      "Var1=w0* qonepercent\n",
      "Var5=w0* qfivepercent\n",
      "\n",
      "print Var1 , Var5"
     ],
     "language": "python",
     "metadata": {},
     "outputs": [
      {
       "output_type": "stream",
       "stream": "stdout",
       "text": [
        "24937.1308664 24937.1308664\n"
       ]
      }
     ],
     "prompt_number": 4
    },
    {
     "cell_type": "code",
     "collapsed": false,
     "input": [
      "qfivepercent = st.norm(0 ,1).ppf(.05)\n",
      "qonepercent = st.norm(0,1).ppf(.01)\n",
      "\n",
      "qfivepercentalpha = 0.04 + .09* qfivepercent\n",
      "qonepercentalpha =0.04 + .09* qonepercent\n",
      "\n",
      "qr5 =np.exp(qfivepercentalpha) - 1  \n",
      "qr1 =np.exp(qonepercentalpha) - 1\n",
      "\n",
      "w0 =100000 \n",
      "Var5=w0* qr5\n",
      "Var1=w0* qr1\n",
      "\n",
      "print Var1 , Var5"
     ],
     "language": "python",
     "metadata": {},
     "outputs": [
      {
       "output_type": "stream",
       "stream": "stdout",
       "text": [
        "-15580.4611877 -10240.5459377\n"
       ]
      }
     ],
     "prompt_number": 5
    },
    {
     "cell_type": "code",
     "collapsed": false,
     "input": [
      "ra= 41.39/38.23-1\n",
      "rc=41.74/41.11-1\n",
      "print ra,np.log(ra+1), rc"
     ],
     "language": "python",
     "metadata": {},
     "outputs": [
      {
       "output_type": "stream",
       "stream": "stdout",
       "text": [
        "0.0826575987444 0.0794187580523 0.0153247385064\n"
       ]
      }
     ],
     "prompt_number": 6
    },
    {
     "cell_type": "code",
     "collapsed": false,
     "input": [
      ".10/41.39"
     ],
     "language": "python",
     "metadata": {},
     "outputs": [
      {
       "metadata": {},
       "output_type": "pyout",
       "prompt_number": 7,
       "text": [
        "0.0024160425223483935"
       ]
      }
     ],
     "prompt_number": 7
    },
    {
     "cell_type": "code",
     "collapsed": false,
     "input": [
      "Rm = np.exp(.077) -1\n",
      "Ra=(1+Rm)**12 -1\n",
      "r= np.log(Ra + 1)\n",
      "print Ra*100 ,r*100"
     ],
     "language": "python",
     "metadata": {},
     "outputs": [
      {
       "output_type": "stream",
       "stream": "stdout",
       "text": [
        "151.934765261 92.4\n"
       ]
      }
     ],
     "prompt_number": 8
    },
    {
     "cell_type": "code",
     "collapsed": false,
     "input": [
      ".8*.08 + .2* .015"
     ],
     "language": "python",
     "metadata": {},
     "outputs": [
      {
       "metadata": {},
       "output_type": "pyout",
       "prompt_number": 9,
       "text": [
        "0.067"
       ]
      }
     ],
     "prompt_number": 9
    },
    {
     "cell_type": "code",
     "collapsed": false,
     "input": [
      "# Assigment 3\n",
      "\n",
      "EX = 1*.3 + 2*.3+3*.4\n",
      "EY = 1*.2 + 2*.3+3*.5\n",
      "VARX = ((1-EX)**2)*.3 + ((2-EX)**2)*.3 + ((3-EX)**2)*.4\n",
      "\n",
      "VARY = ((1-EY)**2)*.2 + ((2-EY)**2)*.3 + ((3-EY)**2)*.5\n",
      "\n",
      "SDX = np.sqrt(VARX)\n",
      "SDY = np.sqrt(VARY)\n",
      "\n",
      "print EX ,EY ,VARX,VARY,np.sqrt(VARX),np.sqrt(VARY)"
     ],
     "language": "python",
     "metadata": {},
     "outputs": [
      {
       "output_type": "stream",
       "stream": "stdout",
       "text": [
        "2.1 2.3 0.69 0.61 0.830662386292 0.781024967591\n"
       ]
      }
     ],
     "prompt_number": 10
    },
    {
     "cell_type": "code",
     "collapsed": false,
     "input": [
      "cov = (1-EX)*(1-EY)*0.1 + \\\n",
      "(1-EX)*(2-EY)*.2 + \\\n",
      "(1-EX)*(3-EY)*0 + \\\n",
      "(2-EX)*(1-EY)*.1 + \\\n",
      "(2-EX)*(2-EY)*0 + \\\n",
      "(2-EX)*(3-EY)*.2 + \\\n",
      "(3-EX)*(1-EY)*0 + \\\n",
      "(3-EX)*(2-EY)*.1 + \\\n",
      "(3-EX)*(3-EY)*.3\n",
      "\n",
      "cor = cov/(SDX * SDY)\n",
      "print cov , cor\n",
      "\n",
      "qfivepercent = st.norm(0 ,1).ppf(.05)\n",
      "qonepercent = st.norm(0,1).ppf(.01)\n",
      "\n",
      "qfivepercentalpha = 12*0.04 + np.sqrt(12)*.09* qfivepercent\n",
      "qonepercentalpha =12*0.04 +np.sqrt(12)* .09* qonepercent\n",
      "\n",
      "qr5 =np.exp(qfivepercentalpha) - 1  \n",
      "qr1 =np.exp(qonepercentalpha) - 1\n",
      "\n",
      "w0 =100000 \n",
      "Var5=w0* qr5\n",
      "Var1=w0* qr1\n",
      "\n",
      "print Var1 , Var5"
     ],
     "language": "python",
     "metadata": {},
     "outputs": [
      {
       "output_type": "stream",
       "stream": "stdout",
       "text": [
        "0.37 0.570311673635\n",
        "-21751.7318049 -3228.20513459\n"
       ]
      }
     ],
     "prompt_number": 11
    },
    {
     "cell_type": "code",
     "collapsed": false,
     "input": [
      "a = np.matrix('1 2; 3 4')\n",
      "A= np.matrix('1 4 7 ; 2 4 8 ;6 1 3')\n",
      "B= np.matrix('4 4 0 ; 5 9 1 ;2 2 5')\n",
      "x= np.matrix('1;2;3')\n",
      "y= np.matrix('5 ;2 ;7')\n",
      "mu= np.matrix('.01 ;.04 ;.02')\n",
      "sigma= np.matrix('.10 .30 0.1 ; .3 .15 -.20 ;.10 -.2 .08')\n",
      "xr=np.matrix('.33 ;.33 ;.33')\n",
      "print xr.transpose()*mu"
     ],
     "language": "python",
     "metadata": {},
     "outputs": [
      {
       "output_type": "stream",
       "stream": "stdout",
       "text": [
        "[[ 0.0231]]\n"
       ]
      }
     ],
     "prompt_number": 12
    },
    {
     "cell_type": "code",
     "collapsed": false,
     "input": [
      "variance = xr.transpose()*sigma*xr\n",
      "print variance"
     ],
     "language": "python",
     "metadata": {},
     "outputs": [
      {
       "output_type": "stream",
       "stream": "stdout",
       "text": [
        "[[ 0.079497]]\n"
       ]
      }
     ],
     "prompt_number": 13
    },
    {
     "cell_type": "code",
     "collapsed": false,
     "input": [],
     "language": "python",
     "metadata": {},
     "outputs": [],
     "prompt_number": 13
    }
   ],
   "metadata": {}
  }
 ]
}